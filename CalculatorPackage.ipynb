{
  "nbformat": 4,
  "nbformat_minor": 0,
  "metadata": {
    "colab": {
      "provenance": [],
      "authorship_tag": "ABX9TyNLU3caXkqnHdqppK+k96Hw",
      "include_colab_link": true
    },
    "kernelspec": {
      "name": "python3",
      "display_name": "Python 3"
    },
    "language_info": {
      "name": "python"
    }
  },
  "cells": [
    {
      "cell_type": "markdown",
      "metadata": {
        "id": "view-in-github",
        "colab_type": "text"
      },
      "source": [
        "<a href=\"https://colab.research.google.com/github/DigDataSteve/Amazon_Customer_Data_Analysis/blob/main/CalculatorPackage.ipynb\" target=\"_parent\"><img src=\"https://colab.research.google.com/assets/colab-badge.svg\" alt=\"Open In Colab\"/></a>"
      ]
    },
    {
      "cell_type": "code",
      "execution_count": 2,
      "metadata": {
        "colab": {
          "base_uri": "https://localhost:8080/"
        },
        "id": "OUK30xFUsUXf",
        "outputId": "6a0eb822-32af-4f19-86f0-fe06824c4d90"
      },
      "outputs": [
        {
          "output_type": "stream",
          "name": "stdout",
          "text": [
            "Looking in indexes: https://test.pypi.org/simple/, https://us-python.pkg.dev/colab-wheels/public/simple/\n",
            "Collecting turingcalcpkgvtwo==0.0.6\n",
            "  Downloading https://test-files.pythonhosted.org/packages/a7/b1/17f88a7432926d467c5fb2744d969b75354b64bcac7cb8ef0d7f83dda8cb/turingcalcpkgvtwo-0.0.6-py3-none-any.whl (6.2 kB)\n",
            "Installing collected packages: turingcalcpkgvtwo\n",
            "Successfully installed turingcalcpkgvtwo-0.0.6\n"
          ]
        }
      ],
      "source": [
        "pip install -i https://test.pypi.org/simple/ turingcalcpkgvtwo==0.0.6"
      ]
    },
    {
      "cell_type": "code",
      "source": [
        "from turingcalcpkgvtwo import calculator\n",
        "calc = calculator.Calculator()\n",
        "calc.add(2)\n",
        "calc.add(3.5)\n",
        "calc.add(-1)\n",
        "calc.subtract(5)\n",
        "calc.multiply(-1.5)\n",
        "calc.add(1.25)\n",
        "calc.multiply(2,4,5,6,7)\n",
        "calc.divide(10)\n",
        "calc.divide(2,2)\n",
        "calc.subtract(20)\n",
        "calc.nroot(6)\n",
        "calc.clear()\n",
        "calc.display()"
      ],
      "metadata": {
        "colab": {
          "base_uri": "https://localhost:8080/"
        },
        "id": "hSUIjhRgsVpm",
        "outputId": "5b31237d-06a7-449e-acd8-07dcb89e4bb7"
      },
      "execution_count": 24,
      "outputs": [
        {
          "output_type": "stream",
          "name": "stdout",
          "text": [
            "2\n",
            "5.5\n",
            "4.5\n",
            "-0.5\n",
            "0.75\n",
            "2.0\n",
            "3360.0\n",
            "336.0\n",
            "84.0\n",
            "64.0\n",
            "2.0\n",
            "Result:  0\n",
            "Memory Cleared:  True\n"
          ]
        }
      ]
    },
    {
      "cell_type": "code",
      "source": [
        "\n",
        "calc.clear()\n",
        "calc.add(2)\n",
        "calc.add(3.5)\n",
        "calc.add(-1)\n",
        "calc.clear()\n",
        "calc.display()\n",
        "print('subtract..... Should be -2, -5.1, -4.1')\n",
        "calc.subtract(2, 3.1, -1)\n",
        "calc.subtract(-4.1)\n",
        "calc.subtract(1)\n",
        "calc.subtract(2, 2, 5, -11)\n",
        "# calc.subtract(3.1)\n",
        "# calc.subtract(-1)\n",
        "# calc.multiply(2)\n",
        "calc.clear()\n",
        "calc.display()\n",
        "print('multiply 2, 3, then add 4 and X 2...should be 0 0 4 8')\n",
        "calc.multiply(2, 3)\n",
        "# calc.multiply(3)\n",
        "calc.add(4)\n",
        "calc.multiply(2,4, 2)\n",
        "calc.clear()\n",
        "calc.display()\n",
        "print('divide 2, 3, then add 4 and / 2...should be 0 0 4 2')\n",
        "calc.divide(2)\n",
        "calc.divide(3)\n",
        "calc.add(4)\n",
        "calc.divide(2)\n",
        "calc.clear()\n",
        "calc.display()\n",
        "print('divide 2, 3, then add 4 and / 2...should be 0 0 4 2')\n",
        "calc.divide(2,3)\n",
        "calc.add(4)\n",
        "calc.divide(2, 2, 20, 10)\n",
        "calc.clear()\n",
        "calc.add(4)\n",
        "calc.multiply(2,4, 2)"
      ],
      "metadata": {
        "colab": {
          "base_uri": "https://localhost:8080/"
        },
        "id": "UwIjwmVwsea7",
        "outputId": "a9ee7030-3f6d-47cb-b4ce-5e75a7560895"
      },
      "execution_count": 8,
      "outputs": [
        {
          "output_type": "stream",
          "name": "stdout",
          "text": [
            "2\n",
            "5.5\n",
            "4.5\n",
            "Result:  0\n",
            "Memory Cleared:  True\n",
            "subtract..... Should be -2, -5.1, -4.1\n",
            "-4.1\n",
            "0.0\n",
            "-1.0\n",
            "1.0\n",
            "Result:  0\n",
            "Memory Cleared:  True\n",
            "multiply 2, 3, then add 4 and X 2...should be 0 0 4 8\n",
            "0\n",
            "4\n",
            "64\n",
            "Result:  0\n",
            "Memory Cleared:  True\n",
            "divide 2, 3, then add 4 and / 2...should be 0 0 4 2\n",
            "0.0\n",
            "0.0\n",
            "4.0\n",
            "2.0\n",
            "Result:  0\n",
            "Memory Cleared:  True\n",
            "divide 2, 3, then add 4 and / 2...should be 0 0 4 2\n",
            "0.0\n",
            "4.0\n",
            "0.005\n",
            "4\n",
            "64\n"
          ]
        }
      ]
    },
    {
      "cell_type": "code",
      "source": [],
      "metadata": {
        "id": "ORMnfMpUspZX"
      },
      "execution_count": null,
      "outputs": []
    }
  ]
}